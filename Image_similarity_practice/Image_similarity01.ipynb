{
 "cells": [
  {
   "cell_type": "code",
   "execution_count": 1,
   "id": "580a9c75",
   "metadata": {
    "pycharm": {
     "name": "#%%\n"
    }
   },
   "outputs": [],
   "source": [
    "import tensorflow as tf\n",
    "import tensorflow_hub as hub\n",
    "from PIL import Image\n",
    "import numpy as np"
   ]
  },
  {
   "cell_type": "code",
   "execution_count": 2,
   "id": "4f3dca35",
   "metadata": {
    "pycharm": {
     "name": "#%%\n"
    }
   },
   "outputs": [
    {
     "name": "stderr",
     "output_type": "stream",
     "text": [
      "2022-08-25 10:15:53.052825: I tensorflow/core/common_runtime/pluggable_device/pluggable_device_factory.cc:305] Could not identify NUMA node of platform GPU ID 0, defaulting to 0. Your kernel may not have been built with NUMA support.\n",
      "2022-08-25 10:15:53.053498: I tensorflow/core/common_runtime/pluggable_device/pluggable_device_factory.cc:271] Created TensorFlow device (/job:localhost/replica:0/task:0/device:GPU:0 with 0 MB memory) -> physical PluggableDevice (device: 0, name: METAL, pci bus id: <undefined>)\n"
     ]
    },
    {
     "name": "stdout",
     "output_type": "stream",
     "text": [
      "Metal device set to: Apple M1 Pro\n"
     ]
    },
    {
     "name": "stderr",
     "output_type": "stream",
     "text": [
      "2022-08-25 10:15:53.820597: W tensorflow/core/platform/profile_utils/cpu_utils.cc:128] Failed to get CPU frequency: 0 Hz\n",
      "2022-08-25 10:15:53.825504: I tensorflow/core/grappler/optimizers/custom_graph_optimizer_registry.cc:113] Plugin optimizer for device_type GPU is enabled.\n",
      "2022-08-25 10:15:54.009930: I tensorflow/core/grappler/optimizers/custom_graph_optimizer_registry.cc:113] Plugin optimizer for device_type GPU is enabled.\n"
     ]
    }
   ],
   "source": [
    "\n",
    "model_url = \"https://tfhub.dev/tensorflow/efficientnet/lite0/feature-vector/2\"\n",
    "\n",
    "IMAGE_SHAPE = (224, 224)\n",
    "\n",
    "layer = hub.KerasLayer(model_url, input_shape=IMAGE_SHAPE+(3,))\n",
    "model = tf.keras.Sequential([layer])"
   ]
  },
  {
   "cell_type": "code",
   "execution_count": 3,
   "id": "8718c4d7",
   "metadata": {
    "pycharm": {
     "name": "#%%\n"
    }
   },
   "outputs": [],
   "source": [
    "def extract(file):\n",
    "    file = Image.open(file).convert('L').resize(IMAGE_SHAPE)\n",
    "    #display(file)\n",
    "\n",
    "    file = np.stack((file,)*3, axis=-1)\n",
    "\n",
    "    file = np.array(file)/255.0\n",
    "\n",
    "    embedding = model.predict(file[np.newaxis, ...])\n",
    "    #print(embedding)\n",
    "    vgg16_feature_np = np.array(embedding)\n",
    "    flattended_feature = vgg16_feature_np.flatten()\n",
    "\n",
    "    #print(len(flattended_feature))\n",
    "    #print(flattended_feature)\n",
    "    #print('-----------')\n",
    "    return flattended_feature"
   ]
  },
  {
   "cell_type": "code",
   "execution_count": 4,
   "id": "21234a20",
   "metadata": {
    "pycharm": {
     "name": "#%%\n"
    }
   },
   "outputs": [
    {
     "name": "stderr",
     "output_type": "stream",
     "text": [
      "2022-08-25 10:15:54.753457: I tensorflow/core/grappler/optimizers/custom_graph_optimizer_registry.cc:113] Plugin optimizer for device_type GPU is enabled.\n"
     ]
    },
    {
     "name": "stdout",
     "output_type": "stream",
     "text": [
      "1/1 [==============================] - 0s 378ms/step\n"
     ]
    }
   ],
   "source": [
    "jigap = extract('jigap01.jpeg')"
   ]
  },
  {
   "cell_type": "code",
   "execution_count": 5,
   "id": "bbc311e0",
   "metadata": {
    "pycharm": {
     "name": "#%%\n"
    }
   },
   "outputs": [
    {
     "name": "stdout",
     "output_type": "stream",
     "text": [
      "/Users/iseongmin/workspaces/Image_similarity_practice\n"
     ]
    }
   ],
   "source": [
    "!pwd"
   ]
  },
  {
   "cell_type": "code",
   "execution_count": 6,
   "id": "f558b3d7",
   "metadata": {
    "pycharm": {
     "name": "#%%\n"
    }
   },
   "outputs": [
    {
     "data": {
      "text/plain": [
       "array([0.        , 0.        , 0.51531535, ..., 0.        , 0.        ,\n",
       "       0.        ], dtype=float32)"
      ]
     },
     "execution_count": 6,
     "metadata": {},
     "output_type": "execute_result"
    }
   ],
   "source": [
    "jigap"
   ]
  },
  {
   "cell_type": "code",
   "execution_count": 7,
   "id": "9012e989",
   "metadata": {
    "pycharm": {
     "name": "#%%\n"
    }
   },
   "outputs": [
    {
     "data": {
      "text/plain": [
       "[PhysicalDevice(name='/physical_device:CPU:0', device_type='CPU'),\n",
       " PhysicalDevice(name='/physical_device:GPU:0', device_type='GPU')]"
      ]
     },
     "execution_count": 7,
     "metadata": {},
     "output_type": "execute_result"
    }
   ],
   "source": [
    "tf.config.list_physical_devices()"
   ]
  },
  {
   "cell_type": "code",
   "execution_count": 38,
   "id": "d84bf5e1",
   "metadata": {
    "pycharm": {
     "name": "#%%\n"
    }
   },
   "outputs": [
    {
     "name": "stdout",
     "output_type": "stream",
     "text": [
      "img_00.jpeg\n",
      "1/1 [==============================] - 0s 21ms/step\n",
      "img_01.jpeg\n",
      "1/1 [==============================] - 0s 13ms/step\n",
      "img_06.jpeg\n",
      "1/1 [==============================] - 0s 13ms/step\n",
      "img_07.jpeg\n",
      "1/1 [==============================] - 0s 13ms/step\n",
      "img_08.jpeg\n",
      "1/1 [==============================] - 0s 13ms/step\n",
      "img_04.jpeg\n",
      "1/1 [==============================] - 0s 13ms/step\n",
      "img_05.jpeg\n",
      "1/1 [==============================] - 0s 14ms/step\n",
      "img_02.jpeg\n",
      "1/1 [==============================] - 0s 12ms/step\n",
      "img_03.jpeg\n",
      "1/1 [==============================] - 0s 13ms/step\n"
     ]
    }
   ],
   "source": [
    "import os\n",
    "for filename in (os.listdir(\"./sample_data\")):\n",
    "    print(filename)\n",
    "    globals()['img_{}'.format(filename[4:6])] = extract('./sample_data/' + filename)\n"
   ]
  },
  {
   "cell_type": "code",
   "execution_count": 60,
   "id": "306b8583",
   "metadata": {
    "pycharm": {
     "name": "#%%\n"
    }
   },
   "outputs": [
    {
     "name": "stdout",
     "output_type": "stream",
     "text": [
      "[0.44967505]\n",
      "the distance between img_01 and img_02 is [0.44967505]\n"
     ]
    }
   ],
   "source": [
    "from scipy.spatial import distance\n",
    "metric = 'cosine'\n",
    "\n",
    "\n",
    "cosineDistance = distance.cdist([img_03], [img_05], metric)[0]\n",
    "print(cosineDistance)\n",
    "print(\"the distance between img_01 and img_02 is {}\".format(cosineDistance)) "
   ]
  },
  {
   "cell_type": "code",
   "execution_count": 77,
   "id": "0e1fa89d",
   "metadata": {
    "pycharm": {
     "name": "#%%\n"
    }
   },
   "outputs": [],
   "source": [
    "import pandas as pd\n",
    "import numpy as np"
   ]
  },
  {
   "cell_type": "code",
   "execution_count": 88,
   "id": "11ce7475",
   "metadata": {
    "pycharm": {
     "name": "#%%\n"
    }
   },
   "outputs": [
    {
     "name": "stdout",
     "output_type": "stream",
     "text": [
      "0\n",
      "[array([0.]), array([0.70494081]), array([0.45787527]), array([0.56707659]), array([0.54926301]), array([0.49123411]), array([0.40538666]), array([0.49611175]), array([0.31715296])] \n",
      "\n",
      "1\n",
      "[array([0.70494081]), array([0.]), array([0.46810029]), array([0.30402393]), array([0.39206186]), array([0.51535129]), array([0.50855588]), array([0.63459254]), array([0.68279351])] \n",
      "\n",
      "2\n",
      "[array([0.45787527]), array([0.46810029]), array([0.]), array([0.40902797]), array([0.39185411]), array([0.42761725]), array([0.23528955]), array([0.59609759]), array([0.50410495])] \n",
      "\n",
      "3\n",
      "[array([0.56707659]), array([0.30402393]), array([0.40902797]), array([0.]), array([0.30064206]), array([0.44967505]), array([0.37602147]), array([0.61838416]), array([0.57447904])] \n",
      "\n",
      "4\n",
      "[array([0.54926301]), array([0.39206186]), array([0.39185411]), array([0.30064206]), array([0.]), array([0.45795692]), array([0.39909415]), array([0.55109169]), array([0.59927964])] \n",
      "\n",
      "5\n",
      "[array([0.49123411]), array([0.51535129]), array([0.42761725]), array([0.44967505]), array([0.45795692]), array([0.]), array([0.31346612]), array([0.49009372]), array([0.52634174])] \n",
      "\n",
      "6\n",
      "[array([0.40538666]), array([0.50855588]), array([0.23528955]), array([0.37602147]), array([0.39909415]), array([0.31346612]), array([0.]), array([0.58179512]), array([0.48072743])] \n",
      "\n",
      "7\n",
      "[array([0.49611175]), array([0.63459254]), array([0.59609759]), array([0.61838416]), array([0.55109169]), array([0.49009372]), array([0.58179512]), array([2.22044605e-16]), array([0.51687398])] \n",
      "\n",
      "8\n",
      "[array([0.31715296]), array([0.68279351]), array([0.50410495]), array([0.57447904]), array([0.59927964]), array([0.52634174]), array([0.48072743]), array([0.51687398]), array([0.])] \n",
      "\n"
     ]
    }
   ],
   "source": [
    "\n",
    "img_list = [img_00, img_01, img_02, img_03, img_04, img_05, img_06, img_07, img_08]\n",
    "\n",
    "for img in img_list:\n",
    "    globals()['{}_sim'.format(img)] = list()\n",
    "    \n",
    "    for i in img_list:\n",
    "        cosineDistance = distance.cdist([img], [i], metric)[0]\n",
    "        globals()['{}_sim'.format(img)].append(cosineDistance)\n",
    "    print(np.argmin(globals()['{}_sim'.format(img)]))\n",
    "#     print('{} / {} / {} \\n{} / {} / {} \\n {} / {} / {} '.format(globals()['{}_sim'.format(img)]))\n",
    "#     print('.3f' % element for element in globals()['{}_sim'.format(img)])\n",
    "#     print('{}'.format(tuple(globals()['{}_sim'.format(img)])))\n",
    "    print(globals()['{}_sim'.format(img)], '\\n')\n",
    "    \n"
   ]
  },
  {
   "cell_type": "code",
   "execution_count": 91,
   "id": "cba5783e",
   "metadata": {
    "pycharm": {
     "name": "#%%\n"
    }
   },
   "outputs": [
    {
     "name": "stdout",
     "output_type": "stream",
     "text": [
      "Collecting roboflow\n",
      "  Downloading roboflow-0.2.14.tar.gz (18 kB)\n",
      "  Preparing metadata (setup.py) ... \u001B[?25ldone\n",
      "\u001B[?25hCollecting certifi==2021.5.30\n",
      "  Downloading certifi-2021.5.30-py2.py3-none-any.whl (145 kB)\n",
      "\u001B[2K     \u001B[90m━━━━━━━━━━━━━━━━━━━━━━━━━━━━━━━━━━━━━━━\u001B[0m \u001B[32m145.5/145.5 kB\u001B[0m \u001B[31m4.0 MB/s\u001B[0m eta \u001B[36m0:00:00\u001B[0m\n",
      "\u001B[?25hCollecting chardet==4.0.0\n",
      "  Downloading chardet-4.0.0-py2.py3-none-any.whl (178 kB)\n",
      "\u001B[2K     \u001B[90m━━━━━━━━━━━━━━━━━━━━━━━━━━━━━━━━━━━━━━━\u001B[0m \u001B[32m178.7/178.7 kB\u001B[0m \u001B[31m6.5 MB/s\u001B[0m eta \u001B[36m0:00:00\u001B[0m\n",
      "\u001B[?25hCollecting cycler==0.10.0\n",
      "  Downloading cycler-0.10.0-py2.py3-none-any.whl (6.5 kB)\n",
      "Collecting glob2\n",
      "  Downloading glob2-0.7.tar.gz (10 kB)\n",
      "  Preparing metadata (setup.py) ... \u001B[?25ldone\n",
      "\u001B[?25hCollecting idna==2.10\n",
      "  Downloading idna-2.10-py2.py3-none-any.whl (58 kB)\n",
      "\u001B[2K     \u001B[90m━━━━━━━━━━━━━━━━━━━━━━━━━━━━━━━━━━━━━━━━\u001B[0m \u001B[32m58.8/58.8 kB\u001B[0m \u001B[31m2.4 MB/s\u001B[0m eta \u001B[36m0:00:00\u001B[0m\n",
      "\u001B[?25hCollecting kiwisolver==1.3.1\n",
      "  Downloading kiwisolver-1.3.1-cp38-cp38-macosx_11_0_arm64.whl (59 kB)\n",
      "\u001B[2K     \u001B[90m━━━━━━━━━━━━━━━━━━━━━━━━━━━━━━━━━━━━━━━━\u001B[0m \u001B[32m59.2/59.2 kB\u001B[0m \u001B[31m2.2 MB/s\u001B[0m eta \u001B[36m0:00:00\u001B[0m\n",
      "\u001B[?25hRequirement already satisfied: matplotlib in /opt/homebrew/Caskroom/miniforge/base/envs/seongminenv/lib/python3.8/site-packages (from roboflow) (3.5.3)\n",
      "Requirement already satisfied: numpy>=1.18.5 in /opt/homebrew/Caskroom/miniforge/base/envs/seongminenv/lib/python3.8/site-packages (from roboflow) (1.22.4)\n",
      "Collecting opencv-python-headless>=4.5.1.48\n",
      "  Downloading opencv_python_headless-4.6.0.66-cp37-abi3-macosx_11_0_arm64.whl (30.0 MB)\n",
      "\u001B[2K     \u001B[90m━━━━━━━━━━━━━━━━━━━━━━━━━━━━━━━━━━━━━━━━\u001B[0m \u001B[32m30.0/30.0 MB\u001B[0m \u001B[31m36.0 MB/s\u001B[0m eta \u001B[36m0:00:00\u001B[0m00:01\u001B[0m00:01\u001B[0m\n",
      "\u001B[?25hRequirement already satisfied: Pillow>=7.1.2 in /opt/homebrew/Caskroom/miniforge/base/envs/seongminenv/lib/python3.8/site-packages (from roboflow) (9.2.0)\n",
      "Collecting pyparsing==2.4.7\n",
      "  Downloading pyparsing-2.4.7-py2.py3-none-any.whl (67 kB)\n",
      "\u001B[2K     \u001B[90m━━━━━━━━━━━━━━━━━━━━━━━━━━━━━━━━━━━━━━━━\u001B[0m \u001B[32m67.8/67.8 kB\u001B[0m \u001B[31m3.0 MB/s\u001B[0m eta \u001B[36m0:00:00\u001B[0m\n",
      "\u001B[?25hRequirement already satisfied: python-dateutil in /opt/homebrew/Caskroom/miniforge/base/envs/seongminenv/lib/python3.8/site-packages (from roboflow) (2.8.2)\n",
      "Collecting python-dotenv\n",
      "  Downloading python_dotenv-0.20.0-py3-none-any.whl (17 kB)\n",
      "Requirement already satisfied: requests in /opt/homebrew/Caskroom/miniforge/base/envs/seongminenv/lib/python3.8/site-packages (from roboflow) (2.28.1)\n",
      "Collecting requests_toolbelt\n",
      "  Downloading requests_toolbelt-0.9.1-py2.py3-none-any.whl (54 kB)\n",
      "\u001B[2K     \u001B[90m━━━━━━━━━━━━━━━━━━━━━━━━━━━━━━━━━━━━━━━━\u001B[0m \u001B[32m54.3/54.3 kB\u001B[0m \u001B[31m2.2 MB/s\u001B[0m eta \u001B[36m0:00:00\u001B[0m\n",
      "\u001B[?25hRequirement already satisfied: six in /opt/homebrew/Caskroom/miniforge/base/envs/seongminenv/lib/python3.8/site-packages (from roboflow) (1.16.0)\n",
      "Collecting urllib3==1.26.6\n",
      "  Downloading urllib3-1.26.6-py2.py3-none-any.whl (138 kB)\n",
      "\u001B[2K     \u001B[90m━━━━━━━━━━━━━━━━━━━━━━━━━━━━━━━━━━━━━━━\u001B[0m \u001B[32m138.5/138.5 kB\u001B[0m \u001B[31m6.6 MB/s\u001B[0m eta \u001B[36m0:00:00\u001B[0m\n",
      "\u001B[?25hCollecting wget\n",
      "  Downloading wget-3.2.zip (10 kB)\n",
      "  Preparing metadata (setup.py) ... \u001B[?25ldone\n",
      "\u001B[?25hRequirement already satisfied: tqdm>=4.41.0 in /opt/homebrew/Caskroom/miniforge/base/envs/seongminenv/lib/python3.8/site-packages (from roboflow) (4.64.0)\n",
      "Requirement already satisfied: PyYAML>=5.3.1 in /opt/homebrew/Caskroom/miniforge/base/envs/seongminenv/lib/python3.8/site-packages (from roboflow) (6.0)\n",
      "Requirement already satisfied: fonttools>=4.22.0 in /opt/homebrew/Caskroom/miniforge/base/envs/seongminenv/lib/python3.8/site-packages (from matplotlib->roboflow) (4.34.4)\n",
      "Requirement already satisfied: packaging>=20.0 in /opt/homebrew/Caskroom/miniforge/base/envs/seongminenv/lib/python3.8/site-packages (from matplotlib->roboflow) (21.3)\n",
      "Requirement already satisfied: charset-normalizer<3,>=2 in /opt/homebrew/Caskroom/miniforge/base/envs/seongminenv/lib/python3.8/site-packages (from requests->roboflow) (2.1.0)\n",
      "Building wheels for collected packages: roboflow, glob2, wget\n",
      "  Building wheel for roboflow (setup.py) ... \u001B[?25ldone\n",
      "\u001B[?25h  Created wheel for roboflow: filename=roboflow-0.2.14-py3-none-any.whl size=24818 sha256=a1788266fc7427a6f40d354bd6244791e8584b17cc24461e07c3bc9364a00310\n",
      "  Stored in directory: /Users/iseongmin/Library/Caches/pip/wheels/90/f2/6b/8e5321bdd78d7ecd7db401a74985ff997c44417815d10e1e34\n",
      "  Building wheel for glob2 (setup.py) ... \u001B[?25ldone\n",
      "\u001B[?25h  Created wheel for glob2: filename=glob2-0.7-py2.py3-none-any.whl size=9302 sha256=fdaa6517bcbc3504932ea87b83107993b97bab7ea58639bfd8b3a6d296115acd\n",
      "  Stored in directory: /Users/iseongmin/Library/Caches/pip/wheels/95/59/ed/52469ecfae47a78c25f11bcb49db42ff84629df01861876883\n",
      "  Building wheel for wget (setup.py) ... \u001B[?25ldone\n",
      "\u001B[?25h  Created wheel for wget: filename=wget-3.2-py3-none-any.whl size=9657 sha256=d3569d04e243d7bcf3a91fd6f2e767404960ef2abdfe2603e34ffaa377494960\n",
      "  Stored in directory: /Users/iseongmin/Library/Caches/pip/wheels/bd/a8/c3/3cf2c14a1837a4e04bd98631724e81f33f462d86a1d895fae0\n",
      "Successfully built roboflow glob2 wget\n",
      "Installing collected packages: wget, glob2, certifi, urllib3, python-dotenv, pyparsing, opencv-python-headless, kiwisolver, idna, cycler, chardet, requests_toolbelt, roboflow\n",
      "  Attempting uninstall: certifi\n",
      "    Found existing installation: certifi 2022.6.15\n",
      "    Uninstalling certifi-2022.6.15:\n",
      "      Successfully uninstalled certifi-2022.6.15\n",
      "  Attempting uninstall: urllib3\n",
      "    Found existing installation: urllib3 1.26.11\n",
      "    Uninstalling urllib3-1.26.11:\n",
      "      Successfully uninstalled urllib3-1.26.11\n",
      "  Attempting uninstall: pyparsing\n",
      "    Found existing installation: pyparsing 3.0.9\n",
      "    Uninstalling pyparsing-3.0.9:\n",
      "      Successfully uninstalled pyparsing-3.0.9\n",
      "  Attempting uninstall: kiwisolver\n",
      "    Found existing installation: kiwisolver 1.4.4\n",
      "    Uninstalling kiwisolver-1.4.4:\n",
      "      Successfully uninstalled kiwisolver-1.4.4\n",
      "  Attempting uninstall: idna\n",
      "    Found existing installation: idna 3.3\n",
      "    Uninstalling idna-3.3:\n",
      "      Successfully uninstalled idna-3.3\n",
      "  Attempting uninstall: cycler\n",
      "    Found existing installation: cycler 0.11.0\n",
      "    Uninstalling cycler-0.11.0:\n",
      "      Successfully uninstalled cycler-0.11.0\n",
      "Successfully installed certifi-2022.6.15 chardet-4.0.0 cycler-0.10.0 glob2-0.7 idna-2.10 kiwisolver-1.3.1 opencv-python-headless-4.6.0.66 pyparsing-2.4.7 python-dotenv-0.20.0 requests_toolbelt-0.9.1 roboflow-0.2.14 urllib3-1.26.6 wget-3.2\n",
      "loading Roboflow workspace...\n",
      "loading Roboflow project...\n",
      "Downloading Dataset Version Zip in lost_article-1 to yolov5pytorch: 100% [99964 / 99964] bytes\n"
     ]
    },
    {
     "name": "stderr",
     "output_type": "stream",
     "text": [
      "Extracting Dataset Version Zip to lost_article-1 in yolov5pytorch:: 100%|█| 30/3\n"
     ]
    }
   ],
   "source": [
    "!pip install roboflow\n",
    "\n",
    "from roboflow import Roboflow\n",
    "rf = Roboflow(api_key=\"2hZItvoco7YwHNaFgCD4\")\n",
    "project = rf.workspace(\"dsproject2jo\").project(\"lost_article\")\n",
    "dataset = project.version(1).download(\"yolov5\")"
   ]
  },
  {
   "cell_type": "code",
   "execution_count": 92,
   "id": "7a65a4f8",
   "metadata": {
    "pycharm": {
     "name": "#%%\n"
    }
   },
   "outputs": [
    {
     "data": {
      "text/plain": [
       "<roboflow.core.dataset.Dataset at 0x2ca5a43a0>"
      ]
     },
     "execution_count": 92,
     "metadata": {},
     "output_type": "execute_result"
    }
   ],
   "source": [
    "dataset"
   ]
  },
  {
   "cell_type": "code",
   "execution_count": null,
   "id": "cd3e8152",
   "metadata": {
    "pycharm": {
     "name": "#%%\n"
    }
   },
   "outputs": [],
   "source": []
  }
 ],
 "metadata": {
  "kernelspec": {
   "display_name": "seongminenv",
   "language": "python",
   "name": "seongminenv"
  },
  "language_info": {
   "codemirror_mode": {
    "name": "ipython",
    "version": 3
   },
   "file_extension": ".py",
   "mimetype": "text/x-python",
   "name": "python",
   "nbconvert_exporter": "python",
   "pygments_lexer": "ipython3",
   "version": "3.8.13"
  }
 },
 "nbformat": 4,
 "nbformat_minor": 5
}